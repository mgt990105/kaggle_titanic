{
 "cells": [
  {
   "cell_type": "markdown",
   "id": "8ea4578f",
   "metadata": {},
   "source": [
    "## Importing Packages "
   ]
  },
  {
   "cell_type": "code",
   "execution_count": 1,
   "id": "952c886a",
   "metadata": {},
   "outputs": [],
   "source": [
    "import pandas as pd\n",
    "import matplotlib.pyplot as plt\n",
    "import seaborn as sns\n",
    "import numpy as np\n",
    "import math\n",
    "\n",
    "\n",
    "%matplotlib inline\n",
    "%reload_ext autoreload\n",
    "%autoreload 2"
   ]
  },
  {
   "cell_type": "markdown",
   "id": "0e224301",
   "metadata": {},
   "source": [
    "## Reading Training Data"
   ]
  },
  {
   "cell_type": "code",
   "execution_count": 2,
   "id": "c4210b5a",
   "metadata": {},
   "outputs": [
    {
     "data": {
      "text/html": [
       "<div>\n",
       "<style scoped>\n",
       "    .dataframe tbody tr th:only-of-type {\n",
       "        vertical-align: middle;\n",
       "    }\n",
       "\n",
       "    .dataframe tbody tr th {\n",
       "        vertical-align: top;\n",
       "    }\n",
       "\n",
       "    .dataframe thead th {\n",
       "        text-align: right;\n",
       "    }\n",
       "</style>\n",
       "<table border=\"1\" class=\"dataframe\">\n",
       "  <thead>\n",
       "    <tr style=\"text-align: right;\">\n",
       "      <th></th>\n",
       "      <th>PassengerId</th>\n",
       "      <th>Survived</th>\n",
       "      <th>Pclass</th>\n",
       "      <th>Name</th>\n",
       "      <th>Sex</th>\n",
       "      <th>Age</th>\n",
       "      <th>SibSp</th>\n",
       "      <th>Parch</th>\n",
       "      <th>Ticket</th>\n",
       "      <th>Fare</th>\n",
       "      <th>Cabin</th>\n",
       "      <th>Embarked</th>\n",
       "    </tr>\n",
       "  </thead>\n",
       "  <tbody>\n",
       "    <tr>\n",
       "      <th>0</th>\n",
       "      <td>1</td>\n",
       "      <td>0</td>\n",
       "      <td>3</td>\n",
       "      <td>Braund, Mr. Owen Harris</td>\n",
       "      <td>male</td>\n",
       "      <td>22.0</td>\n",
       "      <td>1</td>\n",
       "      <td>0</td>\n",
       "      <td>A/5 21171</td>\n",
       "      <td>7.2500</td>\n",
       "      <td>NaN</td>\n",
       "      <td>S</td>\n",
       "    </tr>\n",
       "    <tr>\n",
       "      <th>1</th>\n",
       "      <td>2</td>\n",
       "      <td>1</td>\n",
       "      <td>1</td>\n",
       "      <td>Cumings, Mrs. John Bradley (Florence Briggs Th...</td>\n",
       "      <td>female</td>\n",
       "      <td>38.0</td>\n",
       "      <td>1</td>\n",
       "      <td>0</td>\n",
       "      <td>PC 17599</td>\n",
       "      <td>71.2833</td>\n",
       "      <td>C85</td>\n",
       "      <td>C</td>\n",
       "    </tr>\n",
       "    <tr>\n",
       "      <th>2</th>\n",
       "      <td>3</td>\n",
       "      <td>1</td>\n",
       "      <td>3</td>\n",
       "      <td>Heikkinen, Miss. Laina</td>\n",
       "      <td>female</td>\n",
       "      <td>26.0</td>\n",
       "      <td>0</td>\n",
       "      <td>0</td>\n",
       "      <td>STON/O2. 3101282</td>\n",
       "      <td>7.9250</td>\n",
       "      <td>NaN</td>\n",
       "      <td>S</td>\n",
       "    </tr>\n",
       "    <tr>\n",
       "      <th>3</th>\n",
       "      <td>4</td>\n",
       "      <td>1</td>\n",
       "      <td>1</td>\n",
       "      <td>Futrelle, Mrs. Jacques Heath (Lily May Peel)</td>\n",
       "      <td>female</td>\n",
       "      <td>35.0</td>\n",
       "      <td>1</td>\n",
       "      <td>0</td>\n",
       "      <td>113803</td>\n",
       "      <td>53.1000</td>\n",
       "      <td>C123</td>\n",
       "      <td>S</td>\n",
       "    </tr>\n",
       "    <tr>\n",
       "      <th>4</th>\n",
       "      <td>5</td>\n",
       "      <td>0</td>\n",
       "      <td>3</td>\n",
       "      <td>Allen, Mr. William Henry</td>\n",
       "      <td>male</td>\n",
       "      <td>35.0</td>\n",
       "      <td>0</td>\n",
       "      <td>0</td>\n",
       "      <td>373450</td>\n",
       "      <td>8.0500</td>\n",
       "      <td>NaN</td>\n",
       "      <td>S</td>\n",
       "    </tr>\n",
       "    <tr>\n",
       "      <th>5</th>\n",
       "      <td>6</td>\n",
       "      <td>0</td>\n",
       "      <td>3</td>\n",
       "      <td>Moran, Mr. James</td>\n",
       "      <td>male</td>\n",
       "      <td>NaN</td>\n",
       "      <td>0</td>\n",
       "      <td>0</td>\n",
       "      <td>330877</td>\n",
       "      <td>8.4583</td>\n",
       "      <td>NaN</td>\n",
       "      <td>Q</td>\n",
       "    </tr>\n",
       "    <tr>\n",
       "      <th>6</th>\n",
       "      <td>7</td>\n",
       "      <td>0</td>\n",
       "      <td>1</td>\n",
       "      <td>McCarthy, Mr. Timothy J</td>\n",
       "      <td>male</td>\n",
       "      <td>54.0</td>\n",
       "      <td>0</td>\n",
       "      <td>0</td>\n",
       "      <td>17463</td>\n",
       "      <td>51.8625</td>\n",
       "      <td>E46</td>\n",
       "      <td>S</td>\n",
       "    </tr>\n",
       "    <tr>\n",
       "      <th>7</th>\n",
       "      <td>8</td>\n",
       "      <td>0</td>\n",
       "      <td>3</td>\n",
       "      <td>Palsson, Master. Gosta Leonard</td>\n",
       "      <td>male</td>\n",
       "      <td>2.0</td>\n",
       "      <td>3</td>\n",
       "      <td>1</td>\n",
       "      <td>349909</td>\n",
       "      <td>21.0750</td>\n",
       "      <td>NaN</td>\n",
       "      <td>S</td>\n",
       "    </tr>\n",
       "    <tr>\n",
       "      <th>8</th>\n",
       "      <td>9</td>\n",
       "      <td>1</td>\n",
       "      <td>3</td>\n",
       "      <td>Johnson, Mrs. Oscar W (Elisabeth Vilhelmina Berg)</td>\n",
       "      <td>female</td>\n",
       "      <td>27.0</td>\n",
       "      <td>0</td>\n",
       "      <td>2</td>\n",
       "      <td>347742</td>\n",
       "      <td>11.1333</td>\n",
       "      <td>NaN</td>\n",
       "      <td>S</td>\n",
       "    </tr>\n",
       "    <tr>\n",
       "      <th>9</th>\n",
       "      <td>10</td>\n",
       "      <td>1</td>\n",
       "      <td>2</td>\n",
       "      <td>Nasser, Mrs. Nicholas (Adele Achem)</td>\n",
       "      <td>female</td>\n",
       "      <td>14.0</td>\n",
       "      <td>1</td>\n",
       "      <td>0</td>\n",
       "      <td>237736</td>\n",
       "      <td>30.0708</td>\n",
       "      <td>NaN</td>\n",
       "      <td>C</td>\n",
       "    </tr>\n",
       "  </tbody>\n",
       "</table>\n",
       "</div>"
      ],
      "text/plain": [
       "   PassengerId  Survived  Pclass  \\\n",
       "0            1         0       3   \n",
       "1            2         1       1   \n",
       "2            3         1       3   \n",
       "3            4         1       1   \n",
       "4            5         0       3   \n",
       "5            6         0       3   \n",
       "6            7         0       1   \n",
       "7            8         0       3   \n",
       "8            9         1       3   \n",
       "9           10         1       2   \n",
       "\n",
       "                                                Name     Sex   Age  SibSp  \\\n",
       "0                            Braund, Mr. Owen Harris    male  22.0      1   \n",
       "1  Cumings, Mrs. John Bradley (Florence Briggs Th...  female  38.0      1   \n",
       "2                             Heikkinen, Miss. Laina  female  26.0      0   \n",
       "3       Futrelle, Mrs. Jacques Heath (Lily May Peel)  female  35.0      1   \n",
       "4                           Allen, Mr. William Henry    male  35.0      0   \n",
       "5                                   Moran, Mr. James    male   NaN      0   \n",
       "6                            McCarthy, Mr. Timothy J    male  54.0      0   \n",
       "7                     Palsson, Master. Gosta Leonard    male   2.0      3   \n",
       "8  Johnson, Mrs. Oscar W (Elisabeth Vilhelmina Berg)  female  27.0      0   \n",
       "9                Nasser, Mrs. Nicholas (Adele Achem)  female  14.0      1   \n",
       "\n",
       "   Parch            Ticket     Fare Cabin Embarked  \n",
       "0      0         A/5 21171   7.2500   NaN        S  \n",
       "1      0          PC 17599  71.2833   C85        C  \n",
       "2      0  STON/O2. 3101282   7.9250   NaN        S  \n",
       "3      0            113803  53.1000  C123        S  \n",
       "4      0            373450   8.0500   NaN        S  \n",
       "5      0            330877   8.4583   NaN        Q  \n",
       "6      0             17463  51.8625   E46        S  \n",
       "7      1            349909  21.0750   NaN        S  \n",
       "8      2            347742  11.1333   NaN        S  \n",
       "9      0            237736  30.0708   NaN        C  "
      ]
     },
     "execution_count": 2,
     "metadata": {},
     "output_type": "execute_result"
    }
   ],
   "source": [
    "pd.set_option(\"display.max_columns\", None)\n",
    "train_df = pd.read_csv(r\"C:\\Users\\Mandulat\\Documents\\DA Training\\Kaggle Titanic\\train.csv\")\n",
    "train_df.head(10)"
   ]
  },
  {
   "cell_type": "code",
   "execution_count": 3,
   "id": "8fedfdaa",
   "metadata": {},
   "outputs": [
    {
     "name": "stdout",
     "output_type": "stream",
     "text": [
      "<class 'pandas.core.frame.DataFrame'>\n",
      "RangeIndex: 891 entries, 0 to 890\n",
      "Data columns (total 12 columns):\n",
      " #   Column       Non-Null Count  Dtype  \n",
      "---  ------       --------------  -----  \n",
      " 0   PassengerId  891 non-null    int64  \n",
      " 1   Survived     891 non-null    int64  \n",
      " 2   Pclass       891 non-null    int64  \n",
      " 3   Name         891 non-null    object \n",
      " 4   Sex          891 non-null    object \n",
      " 5   Age          714 non-null    float64\n",
      " 6   SibSp        891 non-null    int64  \n",
      " 7   Parch        891 non-null    int64  \n",
      " 8   Ticket       891 non-null    object \n",
      " 9   Fare         891 non-null    float64\n",
      " 10  Cabin        204 non-null    object \n",
      " 11  Embarked     889 non-null    object \n",
      "dtypes: float64(2), int64(5), object(5)\n",
      "memory usage: 83.7+ KB\n"
     ]
    }
   ],
   "source": [
    "train_df.info()"
   ]
  },
  {
   "cell_type": "markdown",
   "id": "6fbd5a20",
   "metadata": {},
   "source": [
    "## Data Cleaning"
   ]
  },
  {
   "cell_type": "code",
   "execution_count": 4,
   "id": "b1b7ee0f",
   "metadata": {},
   "outputs": [],
   "source": [
    "# adding a new column with full terms of the abbreviations used (pclass, embarked) using .map\n",
    "\n",
    "train_df['Pclass_long'] = train_df['Pclass'].map({1 :'1st Class', 2: '2nd Class', 3: '3rd Class'})\n",
    "\n",
    "train_df['Embarked_long'] = train_df['Embarked'].map({\"C\" :\"Cherbourg\", \"Q\" : \"Queenstown\", \"S\" : \"Southampton\" })\n"
   ]
  },
  {
   "cell_type": "code",
   "execution_count": 5,
   "id": "7ccd3cf2",
   "metadata": {},
   "outputs": [
    {
     "data": {
      "text/html": [
       "<div>\n",
       "<style scoped>\n",
       "    .dataframe tbody tr th:only-of-type {\n",
       "        vertical-align: middle;\n",
       "    }\n",
       "\n",
       "    .dataframe tbody tr th {\n",
       "        vertical-align: top;\n",
       "    }\n",
       "\n",
       "    .dataframe thead th {\n",
       "        text-align: right;\n",
       "    }\n",
       "</style>\n",
       "<table border=\"1\" class=\"dataframe\">\n",
       "  <thead>\n",
       "    <tr style=\"text-align: right;\">\n",
       "      <th></th>\n",
       "      <th>Pclass</th>\n",
       "      <th>Pclass_long</th>\n",
       "    </tr>\n",
       "  </thead>\n",
       "  <tbody>\n",
       "    <tr>\n",
       "      <th>0</th>\n",
       "      <td>3</td>\n",
       "      <td>3rd Class</td>\n",
       "    </tr>\n",
       "    <tr>\n",
       "      <th>1</th>\n",
       "      <td>1</td>\n",
       "      <td>1st Class</td>\n",
       "    </tr>\n",
       "    <tr>\n",
       "      <th>2</th>\n",
       "      <td>3</td>\n",
       "      <td>3rd Class</td>\n",
       "    </tr>\n",
       "    <tr>\n",
       "      <th>3</th>\n",
       "      <td>1</td>\n",
       "      <td>1st Class</td>\n",
       "    </tr>\n",
       "    <tr>\n",
       "      <th>4</th>\n",
       "      <td>3</td>\n",
       "      <td>3rd Class</td>\n",
       "    </tr>\n",
       "    <tr>\n",
       "      <th>5</th>\n",
       "      <td>3</td>\n",
       "      <td>3rd Class</td>\n",
       "    </tr>\n",
       "    <tr>\n",
       "      <th>6</th>\n",
       "      <td>1</td>\n",
       "      <td>1st Class</td>\n",
       "    </tr>\n",
       "    <tr>\n",
       "      <th>7</th>\n",
       "      <td>3</td>\n",
       "      <td>3rd Class</td>\n",
       "    </tr>\n",
       "    <tr>\n",
       "      <th>8</th>\n",
       "      <td>3</td>\n",
       "      <td>3rd Class</td>\n",
       "    </tr>\n",
       "    <tr>\n",
       "      <th>9</th>\n",
       "      <td>2</td>\n",
       "      <td>2nd Class</td>\n",
       "    </tr>\n",
       "  </tbody>\n",
       "</table>\n",
       "</div>"
      ],
      "text/plain": [
       "   Pclass Pclass_long\n",
       "0       3   3rd Class\n",
       "1       1   1st Class\n",
       "2       3   3rd Class\n",
       "3       1   1st Class\n",
       "4       3   3rd Class\n",
       "5       3   3rd Class\n",
       "6       1   1st Class\n",
       "7       3   3rd Class\n",
       "8       3   3rd Class\n",
       "9       2   2nd Class"
      ]
     },
     "execution_count": 5,
     "metadata": {},
     "output_type": "execute_result"
    }
   ],
   "source": [
    "# train_df_test[['Pclass_long','Embarked_long']].head(10)\n",
    "train_df[['Pclass','Pclass_long']].head(10)"
   ]
  },
  {
   "cell_type": "code",
   "execution_count": 6,
   "id": "7c7ab64b",
   "metadata": {},
   "outputs": [
    {
     "data": {
      "text/html": [
       "<div>\n",
       "<style scoped>\n",
       "    .dataframe tbody tr th:only-of-type {\n",
       "        vertical-align: middle;\n",
       "    }\n",
       "\n",
       "    .dataframe tbody tr th {\n",
       "        vertical-align: top;\n",
       "    }\n",
       "\n",
       "    .dataframe thead th {\n",
       "        text-align: right;\n",
       "    }\n",
       "</style>\n",
       "<table border=\"1\" class=\"dataframe\">\n",
       "  <thead>\n",
       "    <tr style=\"text-align: right;\">\n",
       "      <th></th>\n",
       "      <th>Age</th>\n",
       "      <th>Age_clean</th>\n",
       "    </tr>\n",
       "  </thead>\n",
       "  <tbody>\n",
       "    <tr>\n",
       "      <th>78</th>\n",
       "      <td>0.83</td>\n",
       "      <td>1.0</td>\n",
       "    </tr>\n",
       "    <tr>\n",
       "      <th>305</th>\n",
       "      <td>0.92</td>\n",
       "      <td>1.0</td>\n",
       "    </tr>\n",
       "    <tr>\n",
       "      <th>469</th>\n",
       "      <td>0.75</td>\n",
       "      <td>1.0</td>\n",
       "    </tr>\n",
       "    <tr>\n",
       "      <th>644</th>\n",
       "      <td>0.75</td>\n",
       "      <td>1.0</td>\n",
       "    </tr>\n",
       "    <tr>\n",
       "      <th>755</th>\n",
       "      <td>0.67</td>\n",
       "      <td>1.0</td>\n",
       "    </tr>\n",
       "    <tr>\n",
       "      <th>803</th>\n",
       "      <td>0.42</td>\n",
       "      <td>1.0</td>\n",
       "    </tr>\n",
       "    <tr>\n",
       "      <th>831</th>\n",
       "      <td>0.83</td>\n",
       "      <td>1.0</td>\n",
       "    </tr>\n",
       "  </tbody>\n",
       "</table>\n",
       "</div>"
      ],
      "text/plain": [
       "      Age  Age_clean\n",
       "78   0.83        1.0\n",
       "305  0.92        1.0\n",
       "469  0.75        1.0\n",
       "644  0.75        1.0\n",
       "755  0.67        1.0\n",
       "803  0.42        1.0\n",
       "831  0.83        1.0"
      ]
     },
     "execution_count": 6,
     "metadata": {},
     "output_type": "execute_result"
    }
   ],
   "source": [
    "train_df['Age_clean'] = train_df['Age'].apply(lambda x : int(math.ceil(x)) if pd.notnull(x) else np.nan )\n",
    "\n",
    "train_df[(train_df['Age']<1)][['Age','Age_clean']]\n"
   ]
  },
  {
   "cell_type": "code",
   "execution_count": 7,
   "id": "720bba54",
   "metadata": {},
   "outputs": [],
   "source": [
    "train_df['Sex'] = train_df['Sex'].map({\"male\":\"Male\", \"female\":\"Female\"})"
   ]
  },
  {
   "cell_type": "markdown",
   "id": "c016958f",
   "metadata": {},
   "source": [
    "## Basic Feature Engineering"
   ]
  },
  {
   "cell_type": "markdown",
   "id": "2cba2283",
   "metadata": {},
   "source": [
    "### Age Brackets"
   ]
  },
  {
   "cell_type": "code",
   "execution_count": 8,
   "id": "667ca60e",
   "metadata": {},
   "outputs": [
    {
     "data": {
      "text/plain": [
       "count    714.000000\n",
       "mean      29.714286\n",
       "std       14.526453\n",
       "min        1.000000\n",
       "25%       20.250000\n",
       "50%       28.000000\n",
       "75%       38.000000\n",
       "max       80.000000\n",
       "Name: Age_clean, dtype: float64"
      ]
     },
     "execution_count": 8,
     "metadata": {},
     "output_type": "execute_result"
    }
   ],
   "source": [
    "train_df['Age_clean'].describe()"
   ]
  },
  {
   "cell_type": "code",
   "execution_count": 9,
   "id": "b652eb47",
   "metadata": {},
   "outputs": [
    {
     "data": {
      "text/plain": [
       "Young Adult          358\n",
       "Middle-Aged Adult    177\n",
       "Teen                  70\n",
       "Child                 69\n",
       "Older Adult           40\n",
       "Name: Age Bracket, dtype: int64"
      ]
     },
     "execution_count": 9,
     "metadata": {},
     "output_type": "execute_result"
    }
   ],
   "source": [
    "train_df[\"Age Bracket\"] = np.where((1 <=train_df['Age_clean']) & (train_df['Age_clean'] <= 12),\"Child\",None)\n",
    "train_df[\"Age Bracket\"] = np.where((13 <=train_df['Age_clean']) & (train_df['Age_clean'] <= 18),\"Teen\",train_df[\"Age Bracket\"])\n",
    "train_df[\"Age Bracket\"] = np.where((19 <=train_df['Age_clean']) & (train_df['Age_clean'] <= 35),\"Young Adult\",train_df[\"Age Bracket\"])\n",
    "train_df[\"Age Bracket\"] = np.where((36 <=train_df['Age_clean']) & (train_df['Age_clean'] <= 55),\"Middle-Aged Adult\",train_df[\"Age Bracket\"])\n",
    "train_df[\"Age Bracket\"] = np.where((56 <=train_df['Age_clean']),\"Older Adult\",train_df[\"Age Bracket\"])\n",
    "\n",
    "train_df[\"Age Bracket\"].value_counts()"
   ]
  },
  {
   "cell_type": "markdown",
   "id": "b960ea3f",
   "metadata": {},
   "source": [
    "### Cabin Type"
   ]
  },
  {
   "cell_type": "code",
   "execution_count": 10,
   "id": "e1294cc2",
   "metadata": {},
   "outputs": [
    {
     "data": {
      "text/plain": [
       "C    59\n",
       "B    47\n",
       "D    33\n",
       "E    32\n",
       "A    15\n",
       "F    13\n",
       "G     4\n",
       "T     1\n",
       "Name: Cabin Type, dtype: int64"
      ]
     },
     "execution_count": 10,
     "metadata": {},
     "output_type": "execute_result"
    }
   ],
   "source": [
    "train_df[\"Cabin Type\"] = train_df[\"Cabin\"].apply(lambda x: x[0] if pd.notnull(x) else None)\n",
    "\n",
    "train_df[\"Cabin Type\"].value_counts()"
   ]
  },
  {
   "cell_type": "markdown",
   "id": "c7bf1eab",
   "metadata": {},
   "source": [
    "### Marital Status"
   ]
  },
  {
   "cell_type": "code",
   "execution_count": 11,
   "id": "cfd614af",
   "metadata": {},
   "outputs": [
    {
     "data": {
      "text/plain": [
       "Married    645\n",
       "Single     223\n",
       "Name: Marital Status, dtype: int64"
      ]
     },
     "execution_count": 11,
     "metadata": {},
     "output_type": "execute_result"
    }
   ],
   "source": [
    "train_df[\"Marital Status\"] = np.where((train_df[\"Name\"].str.contains(\"Mr.\", regex=False)|train_df[\"Name\"].str.contains(\"Mrs.\", regex=False) |train_df[\"Name\"].str.contains(\"Mrs\", regex=False) |train_df[\"Name\"].str.contains(\"Mr\", regex=False)),\"Married\",None)\n",
    "train_df[\"Marital Status\"] = np.where((train_df[\"Name\"].str.contains(\"Master.\", regex=False)|train_df[\"Name\"].str.contains(\"Miss.\", regex=False)|train_df[\"Name\"].str.contains(\"Ms\", regex=False)),\"Single\",train_df[\"Marital Status\"])\n",
    "\n",
    "\n",
    "train_df['Marital Status'].value_counts()\n"
   ]
  },
  {
   "cell_type": "markdown",
   "id": "84608615",
   "metadata": {},
   "source": [
    "### Spouses OB"
   ]
  },
  {
   "cell_type": "code",
   "execution_count": 12,
   "id": "a7745596",
   "metadata": {},
   "outputs": [],
   "source": [
    "# Spouses OB\n",
    "\n",
    "# NO spouse, NO sibs\n",
    "train_df[\"Spouses OB\"] = np.where((train_df[\"Marital Status\"] == \"Married\") & (train_df[\"SibSp\"] == 0),0,np.nan)\n",
    "\n",
    "# YES spouse, NO sibs\n",
    "train_df[\"Spouses OB\"] = np.where((train_df[\"Marital Status\"] == \"Single\"),0,train_df[\"Spouses OB\"])\n",
    "\n",
    "# YES spouse, YES sibs\n",
    "train_df[\"Spouses OB\"] = np.where((train_df[\"Marital Status\"] == \"Married\") & (train_df[\"SibSp\"] == 1),1,train_df[\"Spouses OB\"])\n",
    "\n",
    "# NO spouse, NO sibs\n",
    "train_df[\"Spouses OB\"] = np.where((train_df[\"Marital Status\"] == \"Married\") & (train_df[\"SibSp\"] > 1),1,train_df[\"Spouses OB\"])\n",
    "\n"
   ]
  },
  {
   "cell_type": "markdown",
   "id": "1719aba3",
   "metadata": {},
   "source": [
    "### Siblings OB"
   ]
  },
  {
   "cell_type": "code",
   "execution_count": 13,
   "id": "4a6e1e9f",
   "metadata": {},
   "outputs": [],
   "source": [
    "# Siblings OB\n",
    "\n",
    "# YES spouse, YES sibs\n",
    "train_df[\"Siblings OB\"] = np.where((train_df[\"Marital Status\"] == \"Married\") & (train_df[\"SibSp\"] > 1),train_df[\"SibSp\"].apply(lambda x : x -1 if pd.notnull(x) else 0 ),np.nan)\n",
    "\n",
    "# NO spouse, YES sibs\n",
    "train_df[\"Siblings OB\"] = np.where((train_df[\"Marital Status\"] == \"Single\") & (train_df[\"SibSp\"] > 0),train_df[\"SibSp\"],train_df[\"Siblings OB\"])\n",
    "\n",
    "# NO spouse, NO sibs\n",
    "train_df[\"Siblings OB\"] = np.where((train_df[\"Marital Status\"] == \"Married\") & (train_df[\"SibSp\"] == 0),0,train_df[\"Siblings OB\"])\n",
    "\n",
    "# YES spouse, NO sibs\n",
    "train_df[\"Siblings OB\"] = np.where((train_df[\"Marital Status\"] == \"Married\") & (train_df[\"SibSp\"] == 1),0,train_df[\"Siblings OB\"])\n",
    "\n",
    "# NO spouse, NO sibs\n",
    "train_df[\"Siblings OB\"] = np.where((train_df[\"Marital Status\"] == \"Single\") & (train_df[\"SibSp\"] == 0),0,train_df[\"Siblings OB\"])"
   ]
  },
  {
   "cell_type": "markdown",
   "id": "ddd1739c",
   "metadata": {},
   "source": [
    "### Parents OB"
   ]
  },
  {
   "cell_type": "code",
   "execution_count": 14,
   "id": "46d02b6a",
   "metadata": {},
   "outputs": [],
   "source": [
    "# Parents OB\n",
    "\n",
    "# Married\n",
    "train_df[\"Parents OB\"] = np.where((train_df[\"Marital Status\"] == \"Married\"),0,np.nan)\n",
    "\n",
    "# Single\n",
    "train_df[\"Parents OB\"] = np.where((train_df[\"Marital Status\"] == \"Single\"),train_df[\"Parch\"],train_df[\"Parents OB\"])"
   ]
  },
  {
   "cell_type": "markdown",
   "id": "a3b6a411",
   "metadata": {},
   "source": [
    "### Children OB"
   ]
  },
  {
   "cell_type": "code",
   "execution_count": 15,
   "id": "c8ae7b05",
   "metadata": {},
   "outputs": [],
   "source": [
    "# Children OB\n",
    "\n",
    "# Married\n",
    "train_df[\"Children OB\"] = np.where((train_df[\"Marital Status\"] == \"Married\"),train_df[\"Parch\"],np.nan)\n",
    "\n",
    "# Single\n",
    "train_df[\"Children OB\"] = np.where((train_df[\"Marital Status\"] == \"Single\"),0,train_df[\"Children OB\"])"
   ]
  },
  {
   "cell_type": "code",
   "execution_count": 16,
   "id": "c91d1472",
   "metadata": {},
   "outputs": [
    {
     "data": {
      "text/html": [
       "<div>\n",
       "<style scoped>\n",
       "    .dataframe tbody tr th:only-of-type {\n",
       "        vertical-align: middle;\n",
       "    }\n",
       "\n",
       "    .dataframe tbody tr th {\n",
       "        vertical-align: top;\n",
       "    }\n",
       "\n",
       "    .dataframe thead th {\n",
       "        text-align: right;\n",
       "    }\n",
       "</style>\n",
       "<table border=\"1\" class=\"dataframe\">\n",
       "  <thead>\n",
       "    <tr style=\"text-align: right;\">\n",
       "      <th></th>\n",
       "      <th>Name</th>\n",
       "      <th>SibSp</th>\n",
       "      <th>Parch</th>\n",
       "      <th>Marital Status</th>\n",
       "      <th>Spouses OB</th>\n",
       "      <th>Siblings OB</th>\n",
       "      <th>Parents OB</th>\n",
       "      <th>Children OB</th>\n",
       "    </tr>\n",
       "  </thead>\n",
       "  <tbody>\n",
       "    <tr>\n",
       "      <th>0</th>\n",
       "      <td>Braund, Mr. Owen Harris</td>\n",
       "      <td>1</td>\n",
       "      <td>0</td>\n",
       "      <td>Married</td>\n",
       "      <td>1.0</td>\n",
       "      <td>0.0</td>\n",
       "      <td>0.0</td>\n",
       "      <td>0.0</td>\n",
       "    </tr>\n",
       "    <tr>\n",
       "      <th>1</th>\n",
       "      <td>Cumings, Mrs. John Bradley (Florence Briggs Th...</td>\n",
       "      <td>1</td>\n",
       "      <td>0</td>\n",
       "      <td>Married</td>\n",
       "      <td>1.0</td>\n",
       "      <td>0.0</td>\n",
       "      <td>0.0</td>\n",
       "      <td>0.0</td>\n",
       "    </tr>\n",
       "    <tr>\n",
       "      <th>2</th>\n",
       "      <td>Heikkinen, Miss. Laina</td>\n",
       "      <td>0</td>\n",
       "      <td>0</td>\n",
       "      <td>Single</td>\n",
       "      <td>0.0</td>\n",
       "      <td>0.0</td>\n",
       "      <td>0.0</td>\n",
       "      <td>0.0</td>\n",
       "    </tr>\n",
       "    <tr>\n",
       "      <th>3</th>\n",
       "      <td>Futrelle, Mrs. Jacques Heath (Lily May Peel)</td>\n",
       "      <td>1</td>\n",
       "      <td>0</td>\n",
       "      <td>Married</td>\n",
       "      <td>1.0</td>\n",
       "      <td>0.0</td>\n",
       "      <td>0.0</td>\n",
       "      <td>0.0</td>\n",
       "    </tr>\n",
       "    <tr>\n",
       "      <th>4</th>\n",
       "      <td>Allen, Mr. William Henry</td>\n",
       "      <td>0</td>\n",
       "      <td>0</td>\n",
       "      <td>Married</td>\n",
       "      <td>0.0</td>\n",
       "      <td>0.0</td>\n",
       "      <td>0.0</td>\n",
       "      <td>0.0</td>\n",
       "    </tr>\n",
       "    <tr>\n",
       "      <th>5</th>\n",
       "      <td>Moran, Mr. James</td>\n",
       "      <td>0</td>\n",
       "      <td>0</td>\n",
       "      <td>Married</td>\n",
       "      <td>0.0</td>\n",
       "      <td>0.0</td>\n",
       "      <td>0.0</td>\n",
       "      <td>0.0</td>\n",
       "    </tr>\n",
       "    <tr>\n",
       "      <th>6</th>\n",
       "      <td>McCarthy, Mr. Timothy J</td>\n",
       "      <td>0</td>\n",
       "      <td>0</td>\n",
       "      <td>Married</td>\n",
       "      <td>0.0</td>\n",
       "      <td>0.0</td>\n",
       "      <td>0.0</td>\n",
       "      <td>0.0</td>\n",
       "    </tr>\n",
       "    <tr>\n",
       "      <th>7</th>\n",
       "      <td>Palsson, Master. Gosta Leonard</td>\n",
       "      <td>3</td>\n",
       "      <td>1</td>\n",
       "      <td>Single</td>\n",
       "      <td>0.0</td>\n",
       "      <td>3.0</td>\n",
       "      <td>1.0</td>\n",
       "      <td>0.0</td>\n",
       "    </tr>\n",
       "    <tr>\n",
       "      <th>8</th>\n",
       "      <td>Johnson, Mrs. Oscar W (Elisabeth Vilhelmina Berg)</td>\n",
       "      <td>0</td>\n",
       "      <td>2</td>\n",
       "      <td>Married</td>\n",
       "      <td>0.0</td>\n",
       "      <td>0.0</td>\n",
       "      <td>0.0</td>\n",
       "      <td>2.0</td>\n",
       "    </tr>\n",
       "    <tr>\n",
       "      <th>9</th>\n",
       "      <td>Nasser, Mrs. Nicholas (Adele Achem)</td>\n",
       "      <td>1</td>\n",
       "      <td>0</td>\n",
       "      <td>Married</td>\n",
       "      <td>1.0</td>\n",
       "      <td>0.0</td>\n",
       "      <td>0.0</td>\n",
       "      <td>0.0</td>\n",
       "    </tr>\n",
       "    <tr>\n",
       "      <th>10</th>\n",
       "      <td>Sandstrom, Miss. Marguerite Rut</td>\n",
       "      <td>1</td>\n",
       "      <td>1</td>\n",
       "      <td>Single</td>\n",
       "      <td>0.0</td>\n",
       "      <td>1.0</td>\n",
       "      <td>1.0</td>\n",
       "      <td>0.0</td>\n",
       "    </tr>\n",
       "  </tbody>\n",
       "</table>\n",
       "</div>"
      ],
      "text/plain": [
       "                                                 Name  SibSp  Parch  \\\n",
       "0                             Braund, Mr. Owen Harris      1      0   \n",
       "1   Cumings, Mrs. John Bradley (Florence Briggs Th...      1      0   \n",
       "2                              Heikkinen, Miss. Laina      0      0   \n",
       "3        Futrelle, Mrs. Jacques Heath (Lily May Peel)      1      0   \n",
       "4                            Allen, Mr. William Henry      0      0   \n",
       "5                                    Moran, Mr. James      0      0   \n",
       "6                             McCarthy, Mr. Timothy J      0      0   \n",
       "7                      Palsson, Master. Gosta Leonard      3      1   \n",
       "8   Johnson, Mrs. Oscar W (Elisabeth Vilhelmina Berg)      0      2   \n",
       "9                 Nasser, Mrs. Nicholas (Adele Achem)      1      0   \n",
       "10                    Sandstrom, Miss. Marguerite Rut      1      1   \n",
       "\n",
       "   Marital Status  Spouses OB  Siblings OB  Parents OB  Children OB  \n",
       "0         Married         1.0          0.0         0.0          0.0  \n",
       "1         Married         1.0          0.0         0.0          0.0  \n",
       "2          Single         0.0          0.0         0.0          0.0  \n",
       "3         Married         1.0          0.0         0.0          0.0  \n",
       "4         Married         0.0          0.0         0.0          0.0  \n",
       "5         Married         0.0          0.0         0.0          0.0  \n",
       "6         Married         0.0          0.0         0.0          0.0  \n",
       "7          Single         0.0          3.0         1.0          0.0  \n",
       "8         Married         0.0          0.0         0.0          2.0  \n",
       "9         Married         1.0          0.0         0.0          0.0  \n",
       "10         Single         0.0          1.0         1.0          0.0  "
      ]
     },
     "execution_count": 16,
     "metadata": {},
     "output_type": "execute_result"
    }
   ],
   "source": [
    "# feature engineering QCing\n",
    "\n",
    "train_df[[\"Name\",\"SibSp\",\"Parch\",\"Marital Status\",\"Spouses OB\",\"Siblings OB\",\"Parents OB\",\"Children OB\"]].loc[0:10]"
   ]
  },
  {
   "cell_type": "code",
   "execution_count": 17,
   "id": "039f8528",
   "metadata": {},
   "outputs": [
    {
     "name": "stdout",
     "output_type": "stream",
     "text": [
      "<class 'pandas.core.frame.DataFrame'>\n",
      "RangeIndex: 891 entries, 0 to 890\n",
      "Data columns (total 22 columns):\n",
      " #   Column          Non-Null Count  Dtype  \n",
      "---  ------          --------------  -----  \n",
      " 0   PassengerId     891 non-null    int64  \n",
      " 1   Survived        891 non-null    int64  \n",
      " 2   Pclass          891 non-null    int64  \n",
      " 3   Name            891 non-null    object \n",
      " 4   Sex             891 non-null    object \n",
      " 5   Age             714 non-null    float64\n",
      " 6   SibSp           891 non-null    int64  \n",
      " 7   Parch           891 non-null    int64  \n",
      " 8   Ticket          891 non-null    object \n",
      " 9   Fare            891 non-null    float64\n",
      " 10  Cabin           204 non-null    object \n",
      " 11  Embarked        889 non-null    object \n",
      " 12  Pclass_long     891 non-null    object \n",
      " 13  Embarked_long   889 non-null    object \n",
      " 14  Age_clean       714 non-null    float64\n",
      " 15  Age Bracket     714 non-null    object \n",
      " 16  Cabin Type      204 non-null    object \n",
      " 17  Marital Status  868 non-null    object \n",
      " 18  Spouses OB      868 non-null    float64\n",
      " 19  Siblings OB     868 non-null    float64\n",
      " 20  Parents OB      868 non-null    float64\n",
      " 21  Children OB     868 non-null    float64\n",
      "dtypes: float64(7), int64(5), object(10)\n",
      "memory usage: 153.3+ KB\n"
     ]
    }
   ],
   "source": [
    "train_df.info()"
   ]
  },
  {
   "cell_type": "code",
   "execution_count": 18,
   "id": "f6ab3ba9",
   "metadata": {
    "tags": []
   },
   "outputs": [
    {
     "data": {
      "text/html": [
       "<div>\n",
       "<style scoped>\n",
       "    .dataframe tbody tr th:only-of-type {\n",
       "        vertical-align: middle;\n",
       "    }\n",
       "\n",
       "    .dataframe tbody tr th {\n",
       "        vertical-align: top;\n",
       "    }\n",
       "\n",
       "    .dataframe thead th {\n",
       "        text-align: right;\n",
       "    }\n",
       "</style>\n",
       "<table border=\"1\" class=\"dataframe\">\n",
       "  <thead>\n",
       "    <tr style=\"text-align: right;\">\n",
       "      <th></th>\n",
       "      <th>Name</th>\n",
       "      <th>Age_clean</th>\n",
       "      <th>Age Bracket</th>\n",
       "      <th>Sex</th>\n",
       "      <th>Marital Status</th>\n",
       "      <th>Spouses OB</th>\n",
       "      <th>Siblings OB</th>\n",
       "      <th>Parents OB</th>\n",
       "      <th>Children OB</th>\n",
       "      <th>Fare</th>\n",
       "      <th>Pclass_long</th>\n",
       "      <th>Embarked_long</th>\n",
       "      <th>Cabin Type</th>\n",
       "      <th>Survived</th>\n",
       "    </tr>\n",
       "  </thead>\n",
       "  <tbody>\n",
       "    <tr>\n",
       "      <th>0</th>\n",
       "      <td>Braund, Mr. Owen Harris</td>\n",
       "      <td>22.0</td>\n",
       "      <td>Young Adult</td>\n",
       "      <td>Male</td>\n",
       "      <td>Married</td>\n",
       "      <td>1.0</td>\n",
       "      <td>0.0</td>\n",
       "      <td>0.0</td>\n",
       "      <td>0.0</td>\n",
       "      <td>7.2500</td>\n",
       "      <td>3rd Class</td>\n",
       "      <td>Southampton</td>\n",
       "      <td>None</td>\n",
       "      <td>0</td>\n",
       "    </tr>\n",
       "    <tr>\n",
       "      <th>1</th>\n",
       "      <td>Cumings, Mrs. John Bradley (Florence Briggs Th...</td>\n",
       "      <td>38.0</td>\n",
       "      <td>Middle-Aged Adult</td>\n",
       "      <td>Female</td>\n",
       "      <td>Married</td>\n",
       "      <td>1.0</td>\n",
       "      <td>0.0</td>\n",
       "      <td>0.0</td>\n",
       "      <td>0.0</td>\n",
       "      <td>71.2833</td>\n",
       "      <td>1st Class</td>\n",
       "      <td>Cherbourg</td>\n",
       "      <td>C</td>\n",
       "      <td>1</td>\n",
       "    </tr>\n",
       "    <tr>\n",
       "      <th>2</th>\n",
       "      <td>Heikkinen, Miss. Laina</td>\n",
       "      <td>26.0</td>\n",
       "      <td>Young Adult</td>\n",
       "      <td>Female</td>\n",
       "      <td>Single</td>\n",
       "      <td>0.0</td>\n",
       "      <td>0.0</td>\n",
       "      <td>0.0</td>\n",
       "      <td>0.0</td>\n",
       "      <td>7.9250</td>\n",
       "      <td>3rd Class</td>\n",
       "      <td>Southampton</td>\n",
       "      <td>None</td>\n",
       "      <td>1</td>\n",
       "    </tr>\n",
       "    <tr>\n",
       "      <th>3</th>\n",
       "      <td>Futrelle, Mrs. Jacques Heath (Lily May Peel)</td>\n",
       "      <td>35.0</td>\n",
       "      <td>Young Adult</td>\n",
       "      <td>Female</td>\n",
       "      <td>Married</td>\n",
       "      <td>1.0</td>\n",
       "      <td>0.0</td>\n",
       "      <td>0.0</td>\n",
       "      <td>0.0</td>\n",
       "      <td>53.1000</td>\n",
       "      <td>1st Class</td>\n",
       "      <td>Southampton</td>\n",
       "      <td>C</td>\n",
       "      <td>1</td>\n",
       "    </tr>\n",
       "    <tr>\n",
       "      <th>4</th>\n",
       "      <td>Allen, Mr. William Henry</td>\n",
       "      <td>35.0</td>\n",
       "      <td>Young Adult</td>\n",
       "      <td>Male</td>\n",
       "      <td>Married</td>\n",
       "      <td>0.0</td>\n",
       "      <td>0.0</td>\n",
       "      <td>0.0</td>\n",
       "      <td>0.0</td>\n",
       "      <td>8.0500</td>\n",
       "      <td>3rd Class</td>\n",
       "      <td>Southampton</td>\n",
       "      <td>None</td>\n",
       "      <td>0</td>\n",
       "    </tr>\n",
       "    <tr>\n",
       "      <th>5</th>\n",
       "      <td>Moran, Mr. James</td>\n",
       "      <td>NaN</td>\n",
       "      <td>None</td>\n",
       "      <td>Male</td>\n",
       "      <td>Married</td>\n",
       "      <td>0.0</td>\n",
       "      <td>0.0</td>\n",
       "      <td>0.0</td>\n",
       "      <td>0.0</td>\n",
       "      <td>8.4583</td>\n",
       "      <td>3rd Class</td>\n",
       "      <td>Queenstown</td>\n",
       "      <td>None</td>\n",
       "      <td>0</td>\n",
       "    </tr>\n",
       "    <tr>\n",
       "      <th>6</th>\n",
       "      <td>McCarthy, Mr. Timothy J</td>\n",
       "      <td>54.0</td>\n",
       "      <td>Middle-Aged Adult</td>\n",
       "      <td>Male</td>\n",
       "      <td>Married</td>\n",
       "      <td>0.0</td>\n",
       "      <td>0.0</td>\n",
       "      <td>0.0</td>\n",
       "      <td>0.0</td>\n",
       "      <td>51.8625</td>\n",
       "      <td>1st Class</td>\n",
       "      <td>Southampton</td>\n",
       "      <td>E</td>\n",
       "      <td>0</td>\n",
       "    </tr>\n",
       "    <tr>\n",
       "      <th>7</th>\n",
       "      <td>Palsson, Master. Gosta Leonard</td>\n",
       "      <td>2.0</td>\n",
       "      <td>Child</td>\n",
       "      <td>Male</td>\n",
       "      <td>Single</td>\n",
       "      <td>0.0</td>\n",
       "      <td>3.0</td>\n",
       "      <td>1.0</td>\n",
       "      <td>0.0</td>\n",
       "      <td>21.0750</td>\n",
       "      <td>3rd Class</td>\n",
       "      <td>Southampton</td>\n",
       "      <td>None</td>\n",
       "      <td>0</td>\n",
       "    </tr>\n",
       "    <tr>\n",
       "      <th>8</th>\n",
       "      <td>Johnson, Mrs. Oscar W (Elisabeth Vilhelmina Berg)</td>\n",
       "      <td>27.0</td>\n",
       "      <td>Young Adult</td>\n",
       "      <td>Female</td>\n",
       "      <td>Married</td>\n",
       "      <td>0.0</td>\n",
       "      <td>0.0</td>\n",
       "      <td>0.0</td>\n",
       "      <td>2.0</td>\n",
       "      <td>11.1333</td>\n",
       "      <td>3rd Class</td>\n",
       "      <td>Southampton</td>\n",
       "      <td>None</td>\n",
       "      <td>1</td>\n",
       "    </tr>\n",
       "    <tr>\n",
       "      <th>9</th>\n",
       "      <td>Nasser, Mrs. Nicholas (Adele Achem)</td>\n",
       "      <td>14.0</td>\n",
       "      <td>Teen</td>\n",
       "      <td>Female</td>\n",
       "      <td>Married</td>\n",
       "      <td>1.0</td>\n",
       "      <td>0.0</td>\n",
       "      <td>0.0</td>\n",
       "      <td>0.0</td>\n",
       "      <td>30.0708</td>\n",
       "      <td>2nd Class</td>\n",
       "      <td>Cherbourg</td>\n",
       "      <td>None</td>\n",
       "      <td>1</td>\n",
       "    </tr>\n",
       "  </tbody>\n",
       "</table>\n",
       "</div>"
      ],
      "text/plain": [
       "                                                Name  Age_clean  \\\n",
       "0                            Braund, Mr. Owen Harris       22.0   \n",
       "1  Cumings, Mrs. John Bradley (Florence Briggs Th...       38.0   \n",
       "2                             Heikkinen, Miss. Laina       26.0   \n",
       "3       Futrelle, Mrs. Jacques Heath (Lily May Peel)       35.0   \n",
       "4                           Allen, Mr. William Henry       35.0   \n",
       "5                                   Moran, Mr. James        NaN   \n",
       "6                            McCarthy, Mr. Timothy J       54.0   \n",
       "7                     Palsson, Master. Gosta Leonard        2.0   \n",
       "8  Johnson, Mrs. Oscar W (Elisabeth Vilhelmina Berg)       27.0   \n",
       "9                Nasser, Mrs. Nicholas (Adele Achem)       14.0   \n",
       "\n",
       "         Age Bracket     Sex Marital Status  Spouses OB  Siblings OB  \\\n",
       "0        Young Adult    Male        Married         1.0          0.0   \n",
       "1  Middle-Aged Adult  Female        Married         1.0          0.0   \n",
       "2        Young Adult  Female         Single         0.0          0.0   \n",
       "3        Young Adult  Female        Married         1.0          0.0   \n",
       "4        Young Adult    Male        Married         0.0          0.0   \n",
       "5               None    Male        Married         0.0          0.0   \n",
       "6  Middle-Aged Adult    Male        Married         0.0          0.0   \n",
       "7              Child    Male         Single         0.0          3.0   \n",
       "8        Young Adult  Female        Married         0.0          0.0   \n",
       "9               Teen  Female        Married         1.0          0.0   \n",
       "\n",
       "   Parents OB  Children OB     Fare Pclass_long Embarked_long Cabin Type  \\\n",
       "0         0.0          0.0   7.2500   3rd Class   Southampton       None   \n",
       "1         0.0          0.0  71.2833   1st Class     Cherbourg          C   \n",
       "2         0.0          0.0   7.9250   3rd Class   Southampton       None   \n",
       "3         0.0          0.0  53.1000   1st Class   Southampton          C   \n",
       "4         0.0          0.0   8.0500   3rd Class   Southampton       None   \n",
       "5         0.0          0.0   8.4583   3rd Class    Queenstown       None   \n",
       "6         0.0          0.0  51.8625   1st Class   Southampton          E   \n",
       "7         1.0          0.0  21.0750   3rd Class   Southampton       None   \n",
       "8         0.0          2.0  11.1333   3rd Class   Southampton       None   \n",
       "9         0.0          0.0  30.0708   2nd Class     Cherbourg       None   \n",
       "\n",
       "   Survived  \n",
       "0         0  \n",
       "1         1  \n",
       "2         1  \n",
       "3         1  \n",
       "4         0  \n",
       "5         0  \n",
       "6         0  \n",
       "7         0  \n",
       "8         1  \n",
       "9         1  "
      ]
     },
     "execution_count": 18,
     "metadata": {},
     "output_type": "execute_result"
    }
   ],
   "source": [
    "clean_df = train_df[[\"Name\",\"Age_clean\",\"Age Bracket\",\"Sex\",\"Marital Status\",\"Spouses OB\",\"Siblings OB\",\"Parents OB\",\"Children OB\",\"Fare\",\"Pclass_long\",\"Embarked_long\",\"Cabin Type\",\"Survived\"]].copy()\n",
    "\n",
    "clean_df.head(10)\n"
   ]
  },
  {
   "cell_type": "code",
   "execution_count": 19,
   "id": "6b51e38f",
   "metadata": {},
   "outputs": [
    {
     "data": {
      "text/plain": [
       "count    891.000000\n",
       "mean      32.204208\n",
       "std       49.693429\n",
       "min        0.000000\n",
       "25%        7.910400\n",
       "50%       14.454200\n",
       "75%       31.000000\n",
       "max      512.329200\n",
       "Name: Fare, dtype: float64"
      ]
     },
     "execution_count": 19,
     "metadata": {},
     "output_type": "execute_result"
    }
   ],
   "source": [
    "clean_df[\"Fare\"].describe()"
   ]
  },
  {
   "cell_type": "markdown",
   "id": "dd2ff24c",
   "metadata": {},
   "source": [
    "## Exploratory Data Analysis "
   ]
  },
  {
   "cell_type": "markdown",
   "id": "f9cd5f09",
   "metadata": {},
   "source": [
    "### Fare"
   ]
  },
  {
   "cell_type": "code",
   "execution_count": 20,
   "id": "ab9ad13b-524e-4650-9c15-dc471d2cebc1",
   "metadata": {},
   "outputs": [
    {
     "data": {
      "text/plain": [
       "<seaborn.axisgrid.JointGrid at 0x19a45aa8190>"
      ]
     },
     "execution_count": 20,
     "metadata": {},
     "output_type": "execute_result"
    },
    {
     "data": {
      "text/plain": [
       "<Figure size 720x432 with 0 Axes>"
      ]
     },
     "metadata": {},
     "output_type": "display_data"
    },
    {
     "data": {
      "image/png": "[encoded data removed]",
      "text/plain": [
       "<Figure size 432x432 with 3 Axes>"
      ]
     },
     "metadata": {},
     "output_type": "display_data"
    }
   ],
   "source": [
    "plt.figure(figsize=(10,6))\n",
    "sns.set_theme()\n",
    "sns.jointplot(x='Age_clean', y='Fare',data=clean_df,color='steelblue', kind='reg')"
   ]
  },
  {
   "cell_type": "code",
   "execution_count": 21,
   "id": "2189df64",
   "metadata": {},
   "outputs": [
    {
     "name": "stdout",
     "output_type": "stream",
     "text": [
      "      Embarked     Sex      amax    amin  len       Fare\n",
      "0    Cherbourg  Female  512.3292  7.2250   73  75.169805\n",
      "1    Cherbourg    Male  512.3292  4.0125   95  48.262109\n",
      "2   Queenstown  Female   90.0000  6.7500   36  12.634958\n",
      "3   Queenstown    Male   90.0000  6.7500   41  13.838922\n",
      "4  Southampton  Female  263.0000  7.2500  203  38.740929\n",
      "5  Southampton    Male  263.0000  0.0000  441  21.711996\n"
     ]
    },
    {
     "data": {
      "image/png": "[encoded data removed]",
      "text/plain": [
       "<Figure size 720x432 with 1 Axes>"
      ]
     },
     "metadata": {},
     "output_type": "display_data"
    }
   ],
   "source": [
    "table = pd.pivot_table(clean_df,index=['Embarked_long','Sex'],aggfunc={'Fare':[np.mean,len,np.min,np.max]}).reset_index()\n",
    "table\n",
    "\n",
    "table.columns = table.columns.droplevel(0)\n",
    "table.columns.values[0] = 'Embarked'\n",
    "table.columns.values[1] = 'Sex'\n",
    "table.columns.values[5] = 'Fare'\n",
    "print(table)\n",
    "\n",
    "plt.figure(figsize=(10,6))\n",
    "sns.set_theme(style=\"whitegrid\")\n",
    "ax = sns.barplot(x=\"Embarked\", y=\"Fare\", hue=\"Sex\", palette={'Female':'skyblue','Male':'steelblue'}, data=table)\n"
   ]
  },
  {
   "cell_type": "code",
   "execution_count": 22,
   "id": "701408c8",
   "metadata": {},
   "outputs": [
    {
     "name": "stdout",
     "output_type": "stream",
     "text": [
      "  Marital Status     Sex      amax    amin  len       Fare\n",
      "0        Married  Female  247.5208  7.2250  127  45.129298\n",
      "1        Married    Male  512.3292  0.0000  518  24.504277\n",
      "2         Single  Female  512.3292  6.7500  183  43.629578\n",
      "3         Single    Male  151.5500  8.5167   40  34.703125\n"
     ]
    },
    {
     "data": {
      "image/png": "[encoded data removed]",
      "text/plain": [
       "<Figure size 720x432 with 1 Axes>"
      ]
     },
     "metadata": {},
     "output_type": "display_data"
    }
   ],
   "source": [
    "table = pd.pivot_table(clean_df[(clean_df['Marital Status'].notnull())],index=['Marital Status','Sex'],aggfunc={'Fare':[np.mean,len,np.min,np.max]}).reset_index()\n",
    "# table\n",
    "table.columns = table.columns.droplevel(0)\n",
    "table.columns.values[0] = 'Marital Status'\n",
    "table.columns.values[1] = 'Sex'\n",
    "table.columns.values[5] = 'Fare'\n",
    "print(table)\n",
    "\n",
    "plt.figure(figsize=(10,6))\n",
    "sns.set_theme(style=\"whitegrid\")\n",
    "ax = sns.barplot(x=\"Marital Status\", y=\"Fare\", hue=\"Sex\", palette={'Female':'skyblue','Male':'steelblue'}, data=table)"
   ]
  },
  {
   "cell_type": "code",
   "execution_count": 34,
   "id": "dbcbbf5b",
   "metadata": {},
   "outputs": [
    {
     "name": "stdout",
     "output_type": "stream",
     "text": [
      "       Class     Sex      amax     amin  len        Fare\n",
      "0  1st Class  Female  512.3292  25.9292   94  106.125798\n",
      "1  1st Class    Male  512.3292   0.0000  122   67.226127\n",
      "2  2nd Class  Female   65.0000  10.5000   76   21.970121\n",
      "3  2nd Class    Male   73.5000   0.0000  108   19.741782\n",
      "4  3rd Class  Female   69.5500   6.7500  144   16.118810\n",
      "5  3rd Class    Male   69.5500   0.0000  347   12.661633\n"
     ]
    },
    {
     "data": {
      "image/png": "[encoded data removed]",
      "text/plain": [
       "<Figure size 720x432 with 1 Axes>"
      ]
     },
     "metadata": {},
     "output_type": "display_data"
    }
   ],
   "source": [
    "table = pd.pivot_table(clean_df[(clean_df['Pclass_long'].notnull())],index=['Pclass_long','Sex'],aggfunc={'Fare':[np.mean,len,np.min,np.max]}).reset_index()\n",
    "\n",
    "table.columns = table.columns.droplevel(0)\n",
    "table.columns.values[0] = 'Class'\n",
    "table.columns.values[1] = 'Sex'\n",
    "table.columns.values[5] = 'Fare'\n",
    "print(table)\n",
    "\n",
    "plt.figure(figsize=(10,6))\n",
    "sns.set_theme(style=\"whitegrid\")\n",
    "ax = sns.barplot(x=\"Class\", y=\"Fare\",hue='Sex', palette={'Female':'skyblue','Male':'steelblue'},data=table)\n"
   ]
  },
  {
   "cell_type": "code",
   "execution_count": 24,
   "id": "95ccfb3c",
   "metadata": {},
   "outputs": [
    {
     "name": "stdout",
     "output_type": "stream",
     "text": [
      "         Age Bracket      amax    amin  len       Fare\n",
      "0              Child  151.5500  8.5167   69  31.536352\n",
      "1  Middle-Aged Adult  512.3292  0.0000  177  43.579497\n",
      "2        Older Adult  263.0000  6.2375   40  45.680728\n",
      "3               Teen  262.3750  6.4958   70  33.451313\n",
      "4        Young Adult  512.3292  0.0000  358  29.925929\n"
     ]
    },
    {
     "data": {
      "image/png": "[encoded data removed]",
      "text/plain": [
       "<Figure size 720x432 with 1 Axes>"
      ]
     },
     "metadata": {},
     "output_type": "display_data"
    }
   ],
   "source": [
    "table = pd.pivot_table(clean_df[(clean_df['Age Bracket'].notnull())],index=['Age Bracket'],aggfunc={'Fare':[np.mean,len,np.min,np.max]}).reset_index()\n",
    "table\n",
    "\n",
    "table.columns = table.columns.droplevel(0)\n",
    "table.columns.values[0] = 'Age Bracket'\n",
    "table.columns.values[4] = 'Fare'\n",
    "print(table)\n",
    "\n",
    "plt.figure(figsize=(10,6))\n",
    "sns.set_theme(style=\"whitegrid\")\n",
    "ax = sns.barplot(x=\"Age Bracket\", y=\"Fare\", order=['Child','Teen','Young Adult','Middle-Aged Adult','Older Adult'] ,color='skyblue',data=table)"
   ]
  },
  {
   "cell_type": "markdown",
   "id": "0680ea2a",
   "metadata": {},
   "source": [
    "### Survival"
   ]
  },
  {
   "cell_type": "code",
   "execution_count": 25,
   "id": "bc48fc98-4b2a-46d7-a574-481ac6a8826f",
   "metadata": {},
   "outputs": [
    {
     "data": {
      "text/plain": [
       "<seaborn.axisgrid.JointGrid at 0x19a4672d280>"
      ]
     },
     "execution_count": 25,
     "metadata": {},
     "output_type": "execute_result"
    },
    {
     "data": {
      "text/plain": [
       "<Figure size 720x288 with 0 Axes>"
      ]
     },
     "metadata": {},
     "output_type": "display_data"
    },
    {
     "data": {
      "image/png": "[encoded data removed]",
      "text/plain": [
       "<Figure size 432x432 with 3 Axes>"
      ]
     },
     "metadata": {},
     "output_type": "display_data"
    }
   ],
   "source": [
    "plt.figure(figsize=(10,4))\n",
    "sns.set_theme()\n",
    "sns.jointplot(x='Fare', y='Survived',data=clean_df,color='steelblue', kind='reg')"
   ]
  },
  {
   "cell_type": "code",
   "execution_count": 26,
   "id": "e064f0f7-36f3-4715-b605-f5b1d0c8157e",
   "metadata": {},
   "outputs": [
    {
     "name": "stdout",
     "output_type": "stream",
     "text": [
      "      Embarked     Sex    len  Survived %\n",
      "0    Cherbourg  Female   73.0    0.876712\n",
      "1    Cherbourg    Male   95.0    0.305263\n",
      "2   Queenstown  Female   36.0    0.750000\n",
      "3   Queenstown    Male   41.0    0.073171\n",
      "4  Southampton  Female  203.0    0.689655\n",
      "5  Southampton    Male  441.0    0.174603\n"
     ]
    },
    {
     "data": {
      "image/png": "[encoded data removed]",
      "text/plain": [
       "<Figure size 720x432 with 1 Axes>"
      ]
     },
     "metadata": {},
     "output_type": "display_data"
    }
   ],
   "source": [
    "table = pd.pivot_table(clean_df,index=['Embarked_long','Sex'],aggfunc={'Survived':[np.mean,len]}).reset_index()\n",
    "table\n",
    "\n",
    "table.columns = table.columns.droplevel(0)\n",
    "table.columns.values[0] = 'Embarked'\n",
    "table.columns.values[1] = 'Sex'\n",
    "table.columns.values[3] = 'Survived %'\n",
    "print(table)\n",
    "\n",
    "plt.figure(figsize=(10,6))\n",
    "sns.set_theme(style=\"whitegrid\")\n",
    "ax = sns.barplot(x=\"Embarked\", y=\"Survived %\", hue=\"Sex\", palette={'Female':'skyblue','Male':'steelblue'}, data=table)"
   ]
  },
  {
   "cell_type": "code",
   "execution_count": 27,
   "id": "8ca56939-24b2-43c3-9f7a-51e557eef4ff",
   "metadata": {},
   "outputs": [
    {
     "name": "stdout",
     "output_type": "stream",
     "text": [
      "  Marital Status     Sex    len  Survived %\n",
      "0        Married  Female  127.0    0.795276\n",
      "1        Married    Male  518.0    0.158301\n",
      "2         Single  Female  183.0    0.699454\n",
      "3         Single    Male   40.0    0.575000\n"
     ]
    },
    {
     "data": {
      "image/png": "[encoded data removed]",
      "text/plain": [
       "<Figure size 720x432 with 1 Axes>"
      ]
     },
     "metadata": {},
     "output_type": "display_data"
    }
   ],
   "source": [
    "table = pd.pivot_table(clean_df[(clean_df['Marital Status'].notnull())],index=['Marital Status','Sex'],aggfunc={'Survived':[np.mean,len]}).reset_index()\n",
    "table\n",
    "\n",
    "table.columns = table.columns.droplevel(0)\n",
    "table.columns.values[0] = 'Marital Status'\n",
    "table.columns.values[1] = 'Sex'\n",
    "table.columns.values[3] = 'Survived %'\n",
    "print(table)\n",
    "\n",
    "plt.figure(figsize=(10,6))\n",
    "sns.set_theme(style=\"whitegrid\")\n",
    "ax = sns.barplot(x=\"Marital Status\", y=\"Survived %\", hue=\"Sex\", palette={'Female':'skyblue','Male':'steelblue'}, data=table)"
   ]
  },
  {
   "cell_type": "code",
   "execution_count": 36,
   "id": "1b373adc-7a56-44fb-afe5-d73739ab4904",
   "metadata": {},
   "outputs": [
    {
     "name": "stdout",
     "output_type": "stream",
     "text": [
      "       Class     Sex    len  Survival %\n",
      "0  1st Class  Female   94.0    0.968085\n",
      "1  1st Class    Male  122.0    0.368852\n",
      "2  2nd Class  Female   76.0    0.921053\n",
      "3  2nd Class    Male  108.0    0.157407\n",
      "4  3rd Class  Female  144.0    0.500000\n",
      "5  3rd Class    Male  347.0    0.135447\n"
     ]
    },
    {
     "data": {
      "image/png": "[encoded data removed]",
      "text/plain": [
       "<Figure size 720x432 with 1 Axes>"
      ]
     },
     "metadata": {},
     "output_type": "display_data"
    }
   ],
   "source": [
    "table = pd.pivot_table(clean_df[(clean_df['Pclass_long'].notnull())],index=['Pclass_long','Sex'],aggfunc={'Survived':[np.mean,len]}).reset_index()\n",
    "\n",
    "table.columns = table.columns.droplevel(0)\n",
    "table.columns.values[0] = 'Class'\n",
    "table.columns.values[1] = 'Sex'\n",
    "table.columns.values[3] = 'Survival %'\n",
    "print(table)\n",
    "\n",
    "plt.figure(figsize=(10,6))\n",
    "sns.set_theme(style=\"whitegrid\")\n",
    "ax = sns.barplot(x=\"Class\", y=\"Survival %\",hue='Sex', palette={'Female':'skyblue','Male':'steelblue'},data=table)"
   ]
  },
  {
   "cell_type": "code",
   "execution_count": 29,
   "id": "0a1da0ba-ddf6-4e8e-b60b-3d7d60496a6f",
   "metadata": {},
   "outputs": [
    {
     "name": "stdout",
     "output_type": "stream",
     "text": [
      "         Age Bracket     Sex    len  Survived %\n",
      "0              Child  Female   32.0    0.593750\n",
      "1              Child    Male   37.0    0.567568\n",
      "2  Middle-Aged Adult  Female   64.0    0.765625\n",
      "3  Middle-Aged Adult    Male  113.0    0.194690\n",
      "4        Older Adult  Female    9.0    0.888889\n",
      "5        Older Adult    Male   31.0    0.129032\n",
      "6               Teen  Female   36.0    0.750000\n",
      "7               Teen    Male   34.0    0.088235\n",
      "8        Young Adult  Female  120.0    0.783333\n",
      "9        Young Adult    Male  238.0    0.180672\n"
     ]
    },
    {
     "data": {
      "image/png": "[encoded data removed]",
      "text/plain": [
       "<Figure size 720x432 with 1 Axes>"
      ]
     },
     "metadata": {},
     "output_type": "display_data"
    }
   ],
   "source": [
    "table = pd.pivot_table(clean_df[(clean_df['Age Bracket'].notnull())],index=['Age Bracket','Sex'],aggfunc={'Survived':[np.mean,len]}).reset_index()\n",
    "table\n",
    "\n",
    "table.columns = table.columns.droplevel(0)\n",
    "table.columns.values[0] = 'Age Bracket'\n",
    "table.columns.values[1] = 'Sex'\n",
    "table.columns.values[3] = 'Survived %'\n",
    "print(table)\n",
    "\n",
    "\n",
    "plt.figure(figsize=(10,6))\n",
    "sns.set_theme(style=\"whitegrid\")\n",
    "ax = sns.barplot(x=\"Age Bracket\", y=\"Survived %\", order=['Child','Teen','Young Adult','Middle-Aged Adult','Older Adult'],hue='Sex', palette={'Female':'skyblue','Male':'steelblue'},data=table)"
   ]
  },
  {
   "cell_type": "code",
   "execution_count": 48,
   "id": "597bb4f5-742e-44fe-991d-7943e08bcd02",
   "metadata": {},
   "outputs": [
    {
     "name": "stdout",
     "output_type": "stream",
     "text": [
      "   Spouses OB    len  Survived %\n",
      "0           0  682.0    0.370968\n",
      "1           1  186.0    0.435484\n"
     ]
    },
    {
     "data": {
      "image/png": "[encoded data removed]",
      "text/plain": [
       "<Figure size 720x432 with 1 Axes>"
      ]
     },
     "metadata": {},
     "output_type": "display_data"
    }
   ],
   "source": [
    "table = pd.pivot_table(clean_df,index=['Spouses OB'],aggfunc={'Survived':[np.mean,len]}).reset_index()\n",
    "table\n",
    "\n",
    "table.columns = table.columns.droplevel(0)\n",
    "table.columns.values[0] = 'Spouses OB'\n",
    "table.columns.values[2] = 'Survived %'\n",
    "table['Spouses OB'] = table['Spouses OB'].astype(int)\n",
    "print(table)\n",
    "\n",
    "plt.figure(figsize=(10,6))\n",
    "sns.set_theme(style=\"whitegrid\")\n",
    "ax = sns.barplot(x=\"Spouses OB\", y=\"Survived %\", color='skyblue',data=table)\n"
   ]
  },
  {
   "cell_type": "code",
   "execution_count": 49,
   "id": "90f8d089-4559-4097-a8e1-05fc7b2f8f87",
   "metadata": {},
   "outputs": [
    {
     "name": "stdout",
     "output_type": "stream",
     "text": [
      "   Siblings OB    len  Survived %\n",
      "0            0  751.0    0.370173\n",
      "1            1   60.0    0.683333\n",
      "2            2   14.0    0.714286\n",
      "3            3   15.0    0.133333\n",
      "4            4   17.0    0.176471\n",
      "5            5    4.0    0.000000\n",
      "6            7    3.0    0.000000\n",
      "7            8    4.0    0.000000\n"
     ]
    },
    {
     "data": {
      "image/png": "[encoded data removed]",
      "text/plain": [
       "<Figure size 720x432 with 1 Axes>"
      ]
     },
     "metadata": {},
     "output_type": "display_data"
    }
   ],
   "source": [
    "table = pd.pivot_table(clean_df,index=['Siblings OB'],aggfunc={'Survived':[np.mean,len]}).reset_index()\n",
    "table\n",
    "\n",
    "table.columns = table.columns.droplevel(0)\n",
    "table.columns.values[0] = 'Siblings OB'\n",
    "table.columns.values[2] = 'Survived %'\n",
    "table['Siblings OB'] = table['Siblings OB'].astype(int)\n",
    "print(table)\n",
    "\n",
    "plt.figure(figsize=(10,6))\n",
    "sns.set_theme(style=\"whitegrid\")\n",
    "ax = sns.barplot(x=\"Siblings OB\", y=\"Survived %\", color='skyblue',data=table)"
   ]
  },
  {
   "cell_type": "code",
   "execution_count": 53,
   "id": "028d630a-8ae9-44dc-81b6-c1bbd0dd43a5",
   "metadata": {},
   "outputs": [
    {
     "name": "stdout",
     "output_type": "stream",
     "text": [
      "    Children OB     Sex    len  Survived %\n",
      "0             0  Female  254.0    0.744094\n",
      "1             0    Male  506.0    0.193676\n",
      "2             1  Female   32.0    0.812500\n",
      "3             1    Male   33.0    0.151515\n",
      "4             2  Female   13.0    0.769231\n",
      "5             2    Male   15.0    0.133333\n",
      "6             3  Female    4.0    0.750000\n",
      "7             3    Male    1.0    0.000000\n",
      "8             4  Female    2.0    0.000000\n",
      "9             4    Male    2.0    0.000000\n",
      "10            5  Female    4.0    0.250000\n",
      "11            5    Male    1.0    0.000000\n",
      "12            6  Female    1.0    0.000000\n"
     ]
    },
    {
     "data": {
      "image/png": "[encoded data removed]",
      "text/plain": [
       "<Figure size 720x432 with 1 Axes>"
      ]
     },
     "metadata": {},
     "output_type": "display_data"
    }
   ],
   "source": [
    "table = pd.pivot_table(clean_df,index=['Children OB','Sex'],aggfunc={'Survived':[np.mean,len]}).reset_index()\n",
    "table\n",
    "\n",
    "table.columns = table.columns.droplevel(0)\n",
    "table.columns.values[0] = 'Children OB'\n",
    "table.columns.values[1] = 'Sex'\n",
    "table.columns.values[3] = 'Survived %'\n",
    "table['Children OB'] = table['Children OB'].astype(int)\n",
    "print(table)\n",
    "\n",
    "plt.figure(figsize=(10,6))\n",
    "sns.set_theme(style=\"whitegrid\")\n",
    "ax = sns.barplot(x=\"Children OB\", y=\"Survived %\",hue='Sex', palette={'Female':'skyblue','Male':'steelblue'},data=table)\n",
    "\n",
    "\n",
    "\n",
    "#check if more moms were saved than dads"
   ]
  },
  {
   "cell_type": "code",
   "execution_count": 54,
   "id": "09a0fad1-bf36-4399-8d67-1171aaa0fc37",
   "metadata": {},
   "outputs": [
    {
     "name": "stdout",
     "output_type": "stream",
     "text": [
      "   Parents OB    len  Survived %\n",
      "0           0  765.0    0.355556\n",
      "1           1   51.0    0.666667\n",
      "2           2   52.0    0.538462\n"
     ]
    },
    {
     "data": {
      "image/png": "[encoded data removed]",
      "text/plain": [
       "<Figure size 720x432 with 1 Axes>"
      ]
     },
     "metadata": {},
     "output_type": "display_data"
    }
   ],
   "source": [
    "table = pd.pivot_table(clean_df,index=['Parents OB'],aggfunc={'Survived':[np.mean,len]}).reset_index()\n",
    "table\n",
    "\n",
    "table.columns = table.columns.droplevel(0)\n",
    "table.columns.values[0] = 'Parents OB'\n",
    "table.columns.values[2] = 'Survived %'\n",
    "table['Parents OB'] = table['Parents OB'].astype(int)\n",
    "print(table)\n",
    "\n",
    "plt.figure(figsize=(10,6))\n",
    "sns.set_theme(style=\"whitegrid\")\n",
    "ax = sns.barplot(x=\"Parents OB\", y=\"Survived %\", color='skyblue',data=table)"
   ]
  },
  {
   "cell_type": "code",
   "execution_count": null,
   "id": "04b4d37c-a7aa-4ec3-9ae8-505af27169a4",
   "metadata": {},
   "outputs": [],
   "source": []
  }
 ],
 "metadata": {
  "kernelspec": {
   "display_name": "Python 3",
   "language": "python",
   "name": "python3"
  },
  "language_info": {
   "codemirror_mode": {
    "name": "ipython",
    "version": 3
   },
   "file_extension": ".py",
   "mimetype": "text/x-python",
   "name": "python",
   "nbconvert_exporter": "python",
   "pygments_lexer": "ipython3",
   "version": "3.8.8"
  }
 },
 "nbformat": 4,
 "nbformat_minor": 5
}
